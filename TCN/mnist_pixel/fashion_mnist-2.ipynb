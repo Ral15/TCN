{
 "cells": [
  {
   "cell_type": "code",
   "execution_count": 11,
   "metadata": {},
   "outputs": [],
   "source": [
    "import sys, os\n",
    "sys.path.append('/home/A00512318/TCN')\n",
    "import torch\n",
    "from torch.autograd import Variable\n",
    "import torch.optim as optim\n",
    "import torch.nn.functional as F\n",
    "from TCN.mnist_pixel.model import TCN\n",
    "import numpy as np"
   ]
  },
  {
   "cell_type": "code",
   "execution_count": 12,
   "metadata": {},
   "outputs": [],
   "source": [
    "# set default values for model\n",
    "batch_size = 512\n",
    "cuda = True\n",
    "dropout = 0.05\n",
    "clip = -1\n",
    "epochs = 20\n",
    "kernel_size = 7\n",
    "levels = 8\n",
    "log_interval = 100\n",
    "lr = 1e-3\n",
    "optimm = 'Adam'\n",
    "nhid = 25\n",
    "seed = 1111\n",
    "permutee = False\n",
    "root = '../data/fashion_mnist'\n",
    "input_channels = 1\n",
    "save_filename = './checkpoints/fashionmnist/fashionmnist_bst.pt'\n",
    "n_classes = 10\n",
    "seq_length = int(784 / input_channels)\n",
    "steps = 0"
   ]
  },
  {
   "cell_type": "code",
   "execution_count": 13,
   "metadata": {},
   "outputs": [
    {
     "name": "stdout",
     "output_type": "stream",
     "text": [
      "('tshit/top', 'trouser', 'pullover', 'dress', 'coat', 'sandal', 'shirt', 'sneaker', 'bag', 'ankle/boot')\n"
     ]
    }
   ],
   "source": [
    "from torchvision import datasets, transforms\n",
    "\n",
    "def data_generator(root, batch_size):\n",
    "    train_set = datasets.FashionMNIST(root=root, train=True, download=True,\n",
    "                               transform=transforms.Compose([\n",
    "                                   transforms.ToTensor(),\n",
    "                                   transforms.Normalize((0.1307,), (0.3081,))\n",
    "                               ]))\n",
    "    test_set = datasets.FashionMNIST(root=root, train=False, download=True,\n",
    "                              transform=transforms.Compose([\n",
    "                                  transforms.ToTensor(),\n",
    "                                  transforms.Normalize((0.1307,), (0.3081,))\n",
    "                              ]))\n",
    "\n",
    "    train_loader = torch.utils.data.DataLoader(train_set, batch_size=batch_size)\n",
    "    test_loader = torch.utils.data.DataLoader(test_set, batch_size=batch_size)\n",
    "    return train_loader, test_loader\n",
    "\n",
    "train_loader, test_loader = data_generator(root, batch_size)\n",
    "\n",
    "classes = ('tshit/top', 'trouser', 'pullover', 'dress', 'coat', 'sandal', 'shirt', 'sneaker', 'bag', 'ankle/boot')\n",
    "print(classes)"
   ]
  },
  {
   "cell_type": "code",
   "execution_count": 14,
   "metadata": {},
   "outputs": [
    {
     "name": "stderr",
     "output_type": "stream",
     "text": [
      "Clipping input data to the valid range for imshow with RGB data ([0..1] for floats or [0..255] for integers).\n"
     ]
    },
    {
     "name": "stdout",
     "output_type": "stream",
     "text": [
      "tensor([9, 0, 0, 3, 0, 2, 7, 2, 5, 5, 0, 9, 5, 5, 7, 9, 1, 0, 6, 4, 3, 1, 4, 8,\n",
      "        4, 3, 0, 2, 4, 4, 5, 3, 6, 6, 0, 8, 5, 2, 1, 6, 6, 7, 9, 5, 9, 2, 7, 3,\n",
      "        0, 3, 3, 3, 7, 2, 2, 6, 6, 8, 3, 3, 5, 0, 5, 5, 0, 2, 0, 0, 4, 1, 3, 1,\n",
      "        6, 3, 1, 4, 4, 6, 1, 9, 1, 3, 5, 7, 9, 7, 1, 7, 9, 9, 9, 3, 2, 9, 3, 6,\n",
      "        4, 1, 1, 8, 8, 0, 1, 1, 6, 8, 1, 9, 7, 8, 8, 9, 6, 6, 3, 1, 5, 4, 6, 7,\n",
      "        5, 5, 9, 2, 2, 2, 7, 6, 4, 1, 8, 7, 7, 5, 4, 2, 9, 1, 7, 4, 6, 9, 7, 1,\n",
      "        8, 7, 1, 2, 8, 0, 9, 1, 8, 7, 0, 5, 8, 6, 7, 2, 0, 8, 7, 1, 6, 2, 1, 9,\n",
      "        6, 0, 1, 0, 5, 5, 1, 7, 0, 5, 8, 4, 0, 4, 0, 6, 6, 4, 0, 0, 4, 7, 3, 0,\n",
      "        5, 8, 4, 1, 1, 2, 9, 2, 8, 5, 0, 6, 3, 4, 6, 0, 9, 1, 7, 3, 8, 5, 8, 3,\n",
      "        8, 5, 2, 0, 8, 7, 0, 3, 5, 0, 6, 5, 2, 7, 5, 2, 6, 8, 2, 6, 8, 0, 4, 4,\n",
      "        4, 4, 4, 1, 5, 6, 5, 3, 3, 7, 3, 3, 6, 2, 8, 4, 6, 5, 9, 3, 2, 3, 2, 4,\n",
      "        4, 8, 2, 5, 3, 0, 7, 2, 0, 2, 5, 7, 2, 3, 1, 7, 6, 2, 9, 1, 9, 1, 1, 8,\n",
      "        7, 8, 4, 2, 6, 6, 7, 9, 4, 6, 1, 9, 5, 6, 0, 5, 0, 1, 6, 1, 1, 6, 7, 4,\n",
      "        4, 8, 6, 4, 6, 9, 3, 7, 5, 0, 8, 3, 4, 0, 3, 3, 2, 0, 1, 0, 3, 8, 3, 9,\n",
      "        1, 9, 0, 4, 7, 7, 8, 5, 6, 5, 6, 8, 2, 5, 2, 3, 1, 6, 0, 7, 8, 7, 8, 1,\n",
      "        9, 6, 4, 5, 7, 1, 7, 6, 6, 7, 3, 5, 8, 7, 3, 3, 9, 0, 3, 1, 6, 4, 7, 0,\n",
      "        5, 1, 5, 4, 4, 5, 9, 1, 0, 5, 8, 3, 4, 4, 2, 4, 2, 5, 6, 7, 2, 2, 5, 3,\n",
      "        8, 8, 6, 8, 4, 4, 1, 0, 2, 7, 1, 1, 8, 8, 2, 7, 9, 7, 4, 1, 2, 0, 8, 9,\n",
      "        1, 4, 9, 5, 6, 7, 0, 3, 2, 0, 4, 1, 0, 0, 8, 7, 0, 2, 9, 9, 1, 3, 8, 3,\n",
      "        1, 4, 8, 5, 1, 8, 2, 4, 4, 9, 5, 5, 4, 5, 6, 3, 7, 4, 9, 5, 8, 9, 3, 9,\n",
      "        6, 4, 7, 2, 2, 6, 4, 8, 3, 0, 2, 8, 9, 0, 8, 6, 3, 9, 1, 6, 3, 2, 6, 1,\n",
      "        0, 2, 6, 2, 3, 3, 9, 1])\n",
      "ankle/boot tshit/top tshit/top dress tshit/top pullover sneaker pullover sandal sandal tshit/top ankle/boot sandal sandal sneaker ankle/boot trouser tshit/top shirt  coat dress trouser  coat   bag  coat dress tshit/top pullover  coat  coat sandal dress shirt shirt tshit/top   bag sandal pullover trouser shirt shirt sneaker ankle/boot sandal ankle/boot pullover sneaker dress tshit/top dress dress dress sneaker pullover pullover shirt shirt   bag dress dress sandal tshit/top sandal sandal tshit/top pullover tshit/top tshit/top  coat trouser dress trouser shirt dress trouser  coat  coat shirt trouser ankle/boot trouser dress sandal sneaker ankle/boot sneaker trouser sneaker ankle/boot ankle/boot ankle/boot dress pullover ankle/boot dress shirt  coat trouser trouser   bag   bag tshit/top trouser trouser shirt   bag trouser ankle/boot sneaker   bag   bag ankle/boot shirt shirt dress trouser sandal  coat shirt sneaker sandal sandal ankle/boot pullover pullover pullover sneaker shirt  coat trouser   bag sneaker sneaker sandal  coat pullover ankle/boot trouser sneaker  coat shirt ankle/boot sneaker trouser   bag sneaker trouser pullover   bag tshit/top ankle/boot trouser   bag sneaker tshit/top sandal   bag shirt sneaker pullover tshit/top   bag sneaker trouser shirt pullover trouser ankle/boot shirt tshit/top trouser tshit/top sandal sandal trouser sneaker tshit/top sandal   bag  coat tshit/top  coat tshit/top shirt shirt  coat tshit/top tshit/top  coat sneaker dress tshit/top sandal   bag  coat trouser trouser pullover ankle/boot pullover   bag sandal tshit/top shirt dress  coat shirt tshit/top ankle/boot trouser sneaker dress   bag sandal   bag dress   bag sandal pullover tshit/top   bag sneaker tshit/top dress sandal tshit/top shirt sandal pullover sneaker sandal pullover shirt   bag pullover shirt   bag tshit/top  coat  coat  coat  coat  coat trouser sandal shirt sandal dress dress sneaker dress dress shirt pullover   bag  coat shirt sandal ankle/boot dress pullover dress pullover  coat  coat   bag pullover sandal dress tshit/top sneaker pullover tshit/top pullover sandal sneaker pullover dress trouser sneaker shirt pullover ankle/boot trouser ankle/boot trouser trouser   bag sneaker   bag  coat pullover shirt shirt sneaker ankle/boot  coat shirt trouser ankle/boot sandal shirt tshit/top sandal tshit/top trouser shirt trouser trouser shirt sneaker  coat  coat   bag shirt  coat shirt ankle/boot dress sneaker sandal tshit/top   bag dress  coat tshit/top dress dress pullover tshit/top trouser tshit/top dress   bag dress ankle/boot trouser ankle/boot tshit/top  coat sneaker sneaker   bag sandal shirt sandal shirt   bag pullover sandal pullover dress trouser shirt tshit/top sneaker   bag sneaker   bag trouser ankle/boot shirt  coat sandal sneaker trouser sneaker shirt shirt sneaker dress sandal   bag sneaker dress dress ankle/boot tshit/top dress trouser shirt  coat sneaker tshit/top sandal trouser sandal  coat  coat sandal ankle/boot trouser tshit/top sandal   bag dress  coat  coat pullover  coat pullover sandal shirt sneaker pullover pullover sandal dress   bag   bag shirt   bag  coat  coat trouser tshit/top pullover sneaker trouser trouser   bag   bag pullover sneaker ankle/boot sneaker  coat trouser pullover tshit/top   bag ankle/boot trouser  coat ankle/boot sandal shirt sneaker tshit/top dress pullover tshit/top  coat trouser tshit/top tshit/top   bag sneaker tshit/top pullover ankle/boot ankle/boot trouser dress   bag dress trouser  coat   bag sandal trouser   bag pullover  coat  coat ankle/boot sandal sandal  coat sandal shirt dress sneaker  coat ankle/boot sandal   bag ankle/boot dress ankle/boot shirt  coat sneaker pullover pullover shirt  coat   bag dress tshit/top pullover   bag ankle/boot tshit/top   bag shirt dress ankle/boot trouser shirt dress pullover shirt trouser tshit/top pullover shirt pullover dress dress ankle/boot trouser\n"
     ]
    }
   ],
   "source": [
    "import matplotlib.pyplot as plt\n",
    "import numpy as np\n",
    "import torchvision\n",
    "\n",
    "# functions to show an image\n",
    "\n",
    "\n",
    "def imshow(img):\n",
    "    img = img / 2 + 0.5     # unnormalize\n",
    "    npimg = img.numpy()\n",
    "    plt.imshow(np.transpose(npimg, (1, 2, 0)))\n",
    "\n",
    "\n",
    "# get some random training images\n",
    "dataiter = iter(train_loader)\n",
    "images, labels = dataiter.next()\n",
    "\n",
    "print(labels)\n",
    "\n",
    "# show images\n",
    "imshow(torchvision.utils.make_grid(images))\n",
    "# print labels\n",
    "print(' '.join('%5s' % classes[labels[j]] for j in range(batch_size)))\n"
   ]
  },
  {
   "cell_type": "code",
   "execution_count": 15,
   "metadata": {},
   "outputs": [
    {
     "name": "stderr",
     "output_type": "stream",
     "text": [
      "Clipping input data to the valid range for imshow with RGB data ([0..1] for floats or [0..255] for integers).\n"
     ]
    },
    {
     "name": "stdout",
     "output_type": "stream",
     "text": [
      "tensor([9, 2, 1, 1, 6, 1, 4, 6, 5, 7, 4, 5, 7, 3, 4, 1, 2, 4, 8, 0, 2, 5, 7, 9,\n",
      "        1, 4, 6, 0, 9, 3, 8, 8, 3, 3, 8, 0, 7, 5, 7, 9, 6, 1, 3, 7, 6, 7, 2, 1,\n",
      "        2, 2, 4, 4, 5, 8, 2, 2, 8, 4, 8, 0, 7, 7, 8, 5, 1, 1, 2, 3, 9, 8, 7, 0,\n",
      "        2, 6, 2, 3, 1, 2, 8, 4, 1, 8, 5, 9, 5, 0, 3, 2, 0, 6, 5, 3, 6, 7, 1, 8,\n",
      "        0, 1, 4, 2, 3, 6, 7, 2, 7, 8, 5, 9, 9, 4, 2, 5, 7, 0, 5, 2, 8, 6, 7, 8,\n",
      "        0, 0, 9, 9, 3, 0, 8, 4, 1, 5, 4, 1, 9, 1, 8, 6, 2, 1, 2, 5, 1, 0, 0, 0,\n",
      "        1, 6, 1, 6, 2, 2, 4, 4, 1, 4, 5, 0, 4, 7, 9, 3, 7, 2, 3, 9, 0, 9, 4, 7,\n",
      "        4, 2, 0, 5, 2, 1, 2, 1, 3, 0, 9, 1, 0, 9, 3, 6, 7, 9, 9, 4, 4, 7, 1, 2,\n",
      "        1, 6, 3, 2, 8, 3, 6, 1, 1, 0, 2, 9, 2, 4, 0, 7, 9, 8, 4, 1, 8, 4, 1, 3,\n",
      "        1, 6, 7, 2, 8, 5, 2, 0, 7, 7, 6, 2, 7, 0, 7, 8, 9, 2, 9, 0, 5, 1, 4, 4,\n",
      "        5, 6, 9, 2, 6, 8, 6, 4, 2, 2, 9, 7, 6, 5, 5, 2, 8, 5, 2, 3, 0, 4, 8, 0,\n",
      "        0, 6, 3, 8, 9, 6, 1, 3, 0, 2, 3, 0, 8, 3, 7, 4, 0, 1, 6, 3, 0, 6, 6, 7,\n",
      "        5, 4, 5, 9, 5, 6, 5, 5, 1, 9, 8, 8, 3, 3, 6, 8, 0, 0, 2, 9, 7, 7, 1, 3,\n",
      "        6, 4, 2, 4, 9, 1, 6, 4, 8, 2, 6, 5, 4, 6, 7, 7, 7, 3, 3, 7, 0, 7, 1, 3,\n",
      "        7, 2, 2, 3, 4, 0, 3, 1, 6, 1, 9, 4, 9, 9, 1, 7, 8, 3, 6, 0, 2, 4, 8, 0,\n",
      "        1, 2, 2, 4, 4, 7, 3, 2, 2, 5, 0, 7, 9, 4, 0, 9, 3, 9, 4, 2, 5, 0, 2, 3,\n",
      "        5, 8, 1, 6, 2, 6, 6, 4, 9, 5, 2, 0, 4, 6, 1, 2, 0, 9, 7, 0, 4, 4, 6, 6,\n",
      "        2, 1, 0, 6, 7, 2, 9, 4, 2, 1, 5, 4, 5, 3, 8, 5, 8, 4, 4, 8, 9, 8, 6, 2,\n",
      "        4, 4, 2, 4, 1, 6, 1, 3, 0, 9, 8, 8, 6, 5, 3, 1, 9, 5, 3, 3, 0, 1, 0, 2,\n",
      "        9, 2, 0, 6, 3, 4, 2, 0, 0, 3, 3, 8, 2, 8, 9, 4, 0, 7, 6, 4, 4, 9, 2, 9,\n",
      "        5, 9, 3, 7, 5, 7, 8, 1, 0, 0, 3, 4, 8, 9, 7, 9, 1, 2, 7, 0, 2, 0, 5, 7,\n",
      "        1, 8, 2, 2, 2, 2, 4, 2])\n",
      "ankle/boot pullover trouser trouser shirt trouser  coat shirt sandal sneaker  coat sandal sneaker dress  coat trouser pullover  coat   bag tshit/top pullover sandal sneaker ankle/boot trouser  coat shirt tshit/top ankle/boot dress   bag   bag dress dress   bag tshit/top sneaker sandal sneaker ankle/boot shirt trouser dress sneaker shirt sneaker pullover trouser pullover pullover  coat  coat sandal   bag pullover pullover   bag  coat   bag tshit/top sneaker sneaker   bag sandal trouser trouser pullover dress ankle/boot   bag sneaker tshit/top pullover shirt pullover dress trouser pullover   bag  coat trouser   bag sandal ankle/boot sandal tshit/top dress pullover tshit/top shirt sandal dress shirt sneaker trouser   bag tshit/top trouser  coat pullover dress shirt sneaker pullover sneaker   bag sandal ankle/boot ankle/boot  coat pullover sandal sneaker tshit/top sandal pullover   bag shirt sneaker   bag tshit/top tshit/top ankle/boot ankle/boot dress tshit/top   bag  coat trouser sandal  coat trouser ankle/boot trouser   bag shirt pullover trouser pullover sandal trouser tshit/top tshit/top tshit/top trouser shirt trouser shirt pullover pullover  coat  coat trouser  coat sandal tshit/top  coat sneaker ankle/boot dress sneaker pullover dress ankle/boot tshit/top ankle/boot  coat sneaker  coat pullover tshit/top sandal pullover trouser pullover trouser dress tshit/top ankle/boot trouser tshit/top ankle/boot dress shirt sneaker ankle/boot ankle/boot  coat  coat sneaker trouser pullover trouser shirt dress pullover   bag dress shirt trouser trouser tshit/top pullover ankle/boot pullover  coat tshit/top sneaker ankle/boot   bag  coat trouser   bag  coat trouser dress trouser shirt sneaker pullover   bag sandal pullover tshit/top sneaker sneaker shirt pullover sneaker tshit/top sneaker   bag ankle/boot pullover ankle/boot tshit/top sandal trouser  coat  coat sandal shirt ankle/boot pullover shirt   bag shirt  coat pullover pullover ankle/boot sneaker shirt sandal sandal pullover   bag sandal pullover dress tshit/top  coat   bag tshit/top tshit/top shirt dress   bag ankle/boot shirt trouser dress tshit/top pullover dress tshit/top   bag dress sneaker  coat tshit/top trouser shirt dress tshit/top shirt shirt sneaker sandal  coat sandal ankle/boot sandal shirt sandal sandal trouser ankle/boot   bag   bag dress dress shirt   bag tshit/top tshit/top pullover ankle/boot sneaker sneaker trouser dress shirt  coat pullover  coat ankle/boot trouser shirt  coat   bag pullover shirt sandal  coat shirt sneaker sneaker sneaker dress dress sneaker tshit/top sneaker trouser dress sneaker pullover pullover dress  coat tshit/top dress trouser shirt trouser ankle/boot  coat ankle/boot ankle/boot trouser sneaker   bag dress shirt tshit/top pullover  coat   bag tshit/top trouser pullover pullover  coat  coat sneaker dress pullover pullover sandal tshit/top sneaker ankle/boot  coat tshit/top ankle/boot dress ankle/boot  coat pullover sandal tshit/top pullover dress sandal   bag trouser shirt pullover shirt shirt  coat ankle/boot sandal pullover tshit/top  coat shirt trouser pullover tshit/top ankle/boot sneaker tshit/top  coat  coat shirt shirt pullover trouser tshit/top shirt sneaker pullover ankle/boot  coat pullover trouser sandal  coat sandal dress   bag sandal   bag  coat  coat   bag ankle/boot   bag shirt pullover  coat  coat pullover  coat trouser shirt trouser dress tshit/top ankle/boot   bag   bag shirt sandal dress trouser ankle/boot sandal dress dress tshit/top trouser tshit/top pullover ankle/boot pullover tshit/top shirt dress  coat pullover tshit/top tshit/top dress dress   bag pullover   bag ankle/boot  coat tshit/top sneaker shirt  coat  coat ankle/boot pullover ankle/boot sandal ankle/boot dress sneaker sandal sneaker   bag trouser tshit/top tshit/top dress  coat   bag ankle/boot sneaker ankle/boot trouser pullover sneaker tshit/top pullover tshit/top sandal sneaker trouser   bag pullover pullover pullover pullover  coat pullover\n"
     ]
    },
    {
     "data": {
      "image/png": "[encoded data removed]",
      "text/plain": [
       "<Figure size 432x288 with 1 Axes>"
      ]
     },
     "metadata": {
      "needs_background": "light"
     },
     "output_type": "display_data"
    }
   ],
   "source": [
    "# sanity check for validation data\n",
    "dataiter = iter(test_loader)\n",
    "images, labels = dataiter.next()\n",
    "print(labels)\n",
    "imshow(torchvision.utils.make_grid(images))\n",
    "# print labels\n",
    "print(' '.join('%5s' % classes[labels[j]] for j in range(batch_size)))\n"
   ]
  },
  {
   "cell_type": "code",
   "execution_count": 23,
   "metadata": {},
   "outputs": [
    {
     "ename": "NameError",
     "evalue": "name 'nn' is not defined",
     "output_type": "error",
     "traceback": [
      "\u001b[0;31m---------------------------------------------------------------------------\u001b[0m",
      "\u001b[0;31mNameError\u001b[0m                                 Traceback (most recent call last)",
      "\u001b[0;32m<ipython-input-23-d59df3d7e158>\u001b[0m in \u001b[0;36m<module>\u001b[0;34m\u001b[0m\n\u001b[1;32m      3\u001b[0m \u001b[0;31m# model = TCN(input_channels, n_classes, channel_sizes, kernel_size=kernel_size, dropout=dropout)\u001b[0m\u001b[0;34m\u001b[0m\u001b[0;34m\u001b[0m\u001b[0m\n\u001b[1;32m      4\u001b[0m \u001b[0mmodel\u001b[0m \u001b[0;34m=\u001b[0m \u001b[0mTCN\u001b[0m\u001b[0;34m(\u001b[0m\u001b[0minput_channels\u001b[0m\u001b[0;34m,\u001b[0m \u001b[0mn_classes\u001b[0m\u001b[0;34m,\u001b[0m \u001b[0mhidden_units\u001b[0m\u001b[0;34m=\u001b[0m\u001b[0mnhid\u001b[0m\u001b[0;34m,\u001b[0m \u001b[0mlevels\u001b[0m\u001b[0;34m=\u001b[0m\u001b[0mlevels\u001b[0m\u001b[0;34m,\u001b[0m \u001b[0mkernel_size\u001b[0m\u001b[0;34m=\u001b[0m\u001b[0mkernel_size\u001b[0m\u001b[0;34m,\u001b[0m \u001b[0mdropout\u001b[0m\u001b[0;34m=\u001b[0m\u001b[0mdropout\u001b[0m\u001b[0;34m)\u001b[0m\u001b[0;34m\u001b[0m\u001b[0m\n\u001b[0;32m----> 5\u001b[0;31m \u001b[0mmodel\u001b[0m \u001b[0;34m=\u001b[0m \u001b[0mnn\u001b[0m\u001b[0;34m.\u001b[0m\u001b[0mDataParallel\u001b[0m\u001b[0;34m(\u001b[0m\u001b[0mmodel\u001b[0m\u001b[0;34m)\u001b[0m\u001b[0;34m\u001b[0m\u001b[0m\n\u001b[0m\u001b[1;32m      6\u001b[0m \u001b[0mmodel\u001b[0m\u001b[0;34m.\u001b[0m\u001b[0mto\u001b[0m\u001b[0;34m(\u001b[0m\u001b[0mdevice\u001b[0m\u001b[0;34m)\u001b[0m\u001b[0;34m\u001b[0m\u001b[0m\n\u001b[1;32m      7\u001b[0m \u001b[0mmodel\u001b[0m\u001b[0;34m.\u001b[0m\u001b[0mcuda\u001b[0m\u001b[0;34m(\u001b[0m\u001b[0;34m)\u001b[0m\u001b[0;34m\u001b[0m\u001b[0m\n",
      "\u001b[0;31mNameError\u001b[0m: name 'nn' is not defined"
     ]
    }
   ],
   "source": [
    "# permute = torch.Tensor(np.random.permutation(784).astype(np.float64)).long()\n",
    "channel_sizes = [nhid] * levels\n",
    "# model = TCN(input_channels, n_classes, channel_sizes, kernel_size=kernel_size, dropout=dropout)\n",
    "model = TCN(input_channels, n_classes, hidden_units=nhid, levels=levels, kernel_size=kernel_size, dropout=dropout)\n",
    "model = nn.DataParallel(model)\n",
    "model.to(device)\n",
    "model.cuda()\n",
    "# permute = permute.cuda()\n",
    "optimizer = getattr(optim, optimm)(model.parameters(), lr=lr)"
   ]
  },
  {
   "cell_type": "code",
   "execution_count": 17,
   "metadata": {},
   "outputs": [],
   "source": [
    "def trainTCN(ep):\n",
    "    global steps\n",
    "    train_loss = 0\n",
    "    model.train()\n",
    "    for batch_idx, (data, target) in enumerate(train_loader):\n",
    "        if cuda: \n",
    "            data, target = data.to(device), target.to(device)\n",
    "        data = data.view(-1, input_channels, seq_length)\n",
    "        if permutee:\n",
    "            data = data[:, :, permute]\n",
    "        optimizer.zero_grad()\n",
    "        output = model(data)\n",
    "        loss = F.nll_loss(output, target)\n",
    "        loss.backward()\n",
    "        if parameters[0]['clip'] > 0:\n",
    "            torch.nn.utils.clip_grad_norm_(model.parameters(), parameters[0]['clip'])\n",
    "        optimizer.step()\n",
    "        train_loss += loss.item()\n",
    "        steps += seq_length\n",
    "        if batch_idx > 0 and batch_idx % log_interval == 0:\n",
    "            print('Train Epoch: {} [{}/{} ({:.0f}%)]\\tLoss: {:.6f}\\tSteps: {}'.format(\n",
    "                ep, batch_idx * parameters[0]['batch_size'], len(train_loader.dataset),\n",
    "                100. * batch_idx / len(train_loader), train_loss/log_interval, steps))\n",
    "            train_losses_[ep-1].append((train_loss/log_interval, steps))\n",
    "            train_loss = 0  "
   ]
  },
  {
   "cell_type": "code",
   "execution_count": 18,
   "metadata": {},
   "outputs": [],
   "source": [
    "def testTCN():\n",
    "    test_loss = 0\n",
    "    correct = 0\n",
    "    correct_class = list(0. for i in range(10))\n",
    "    correct_total = list(0. for i in range(10))\n",
    "    tot = 0\n",
    "    with torch.no_grad():\n",
    "        for data, target in test_loader:\n",
    "            if cuda:\n",
    "                data, target = data.to(device), target.to(device)\n",
    "            data = data.view(-1, input_channels, seq_length)\n",
    "            if permutee:\n",
    "                data = data[:, :, permute]\n",
    "            output = model(data)\n",
    "            test_loss += F.nll_loss(output, target, size_average=False).item()\n",
    "            _, pred = torch.max(output, 1)\n",
    "            correct += pred.eq(target.data.view_as(pred)).cpu().sum()\n",
    "#             print(len(target.data.view_as(pred)))\n",
    "            c = (pred == target).squeeze()\n",
    "            tot += 1\n",
    "#             if tot != 313:\n",
    "#             for i in range(len(test_loader.dataset) // batch_size):\n",
    "# #                     print(pred[i], target.data.view_as(pred)[i])\n",
    "#                 print(i)\n",
    "#                 label = pred[i]\n",
    "#                 if (pred[i] == target.data.view_as(pred)[i]):\n",
    "#                     correct_class[label] += c[i].item()\n",
    "#                 correct_total[label] += 1\n",
    "                    \n",
    "                \n",
    "#     print(tot)\n",
    "#     for i in range(10):\n",
    "#         print('Accuracy of %5s : %2d %%' % (\n",
    "#             classes[i], 100 * correct_class[i] / correct_total[i]))\n",
    "\n",
    "    test_loss /= len(test_loader.dataset)\n",
    "#     print(correct.item())\n",
    "    accuracies_.append(correct.item() / 10000.)\n",
    "    \n",
    "    print('\\nTest set: Average loss: {:.4f}, Accuracy: {}/{} ({:.0f}%)\\n'.format(\n",
    "        test_loss, correct, len(test_loader.dataset),\n",
    "        100. * correct / len(test_loader.dataset)))\n",
    "    return test_loss"
   ]
  },
  {
   "cell_type": "code",
   "execution_count": 19,
   "metadata": {},
   "outputs": [],
   "source": [
    "def save(model):\n",
    "    torch.save(model, save_filename)\n",
    "    print('Saved as %s' % save_filename)"
   ]
  },
  {
   "cell_type": "code",
   "execution_count": 20,
   "metadata": {},
   "outputs": [
    {
     "ename": "NameError",
     "evalue": "name 'model' is not defined",
     "output_type": "error",
     "traceback": [
      "\u001b[0;31m---------------------------------------------------------------------------\u001b[0m",
      "\u001b[0;31mNameError\u001b[0m                                 Traceback (most recent call last)",
      "\u001b[0;32m<ipython-input-20-5a78bf21fc49>\u001b[0m in \u001b[0;36m<module>\u001b[0;34m\u001b[0m\n\u001b[1;32m      1\u001b[0m \u001b[0;32mfor\u001b[0m \u001b[0mepoch\u001b[0m \u001b[0;32min\u001b[0m \u001b[0mrange\u001b[0m\u001b[0;34m(\u001b[0m\u001b[0;36m1\u001b[0m\u001b[0;34m,\u001b[0m \u001b[0mepochs\u001b[0m\u001b[0;34m+\u001b[0m\u001b[0;36m1\u001b[0m\u001b[0;34m)\u001b[0m\u001b[0;34m:\u001b[0m\u001b[0;34m\u001b[0m\u001b[0m\n\u001b[0;32m----> 2\u001b[0;31m         \u001b[0mtrainTCN\u001b[0m\u001b[0;34m(\u001b[0m\u001b[0mepoch\u001b[0m\u001b[0;34m)\u001b[0m\u001b[0;34m\u001b[0m\u001b[0m\n\u001b[0m\u001b[1;32m      3\u001b[0m         \u001b[0mtestTCN\u001b[0m\u001b[0;34m(\u001b[0m\u001b[0;34m)\u001b[0m\u001b[0;34m\u001b[0m\u001b[0m\n\u001b[1;32m      4\u001b[0m \u001b[0;31m#         if epoch % 5 == 0:\u001b[0m\u001b[0;34m\u001b[0m\u001b[0;34m\u001b[0m\u001b[0m\n\u001b[1;32m      5\u001b[0m \u001b[0;31m#             print('Saving model.....')\u001b[0m\u001b[0;34m\u001b[0m\u001b[0;34m\u001b[0m\u001b[0m\n",
      "\u001b[0;32m<ipython-input-17-58adce72ad90>\u001b[0m in \u001b[0;36mtrainTCN\u001b[0;34m(ep)\u001b[0m\n\u001b[1;32m      2\u001b[0m     \u001b[0;32mglobal\u001b[0m \u001b[0msteps\u001b[0m\u001b[0;34m\u001b[0m\u001b[0m\n\u001b[1;32m      3\u001b[0m     \u001b[0mtrain_loss\u001b[0m \u001b[0;34m=\u001b[0m \u001b[0;36m0\u001b[0m\u001b[0;34m\u001b[0m\u001b[0m\n\u001b[0;32m----> 4\u001b[0;31m     \u001b[0mmodel\u001b[0m\u001b[0;34m.\u001b[0m\u001b[0mtrain\u001b[0m\u001b[0;34m(\u001b[0m\u001b[0;34m)\u001b[0m\u001b[0;34m\u001b[0m\u001b[0m\n\u001b[0m\u001b[1;32m      5\u001b[0m     \u001b[0;32mfor\u001b[0m \u001b[0mbatch_idx\u001b[0m\u001b[0;34m,\u001b[0m \u001b[0;34m(\u001b[0m\u001b[0mdata\u001b[0m\u001b[0;34m,\u001b[0m \u001b[0mtarget\u001b[0m\u001b[0;34m)\u001b[0m \u001b[0;32min\u001b[0m \u001b[0menumerate\u001b[0m\u001b[0;34m(\u001b[0m\u001b[0mtrain_loader\u001b[0m\u001b[0;34m)\u001b[0m\u001b[0;34m:\u001b[0m\u001b[0;34m\u001b[0m\u001b[0m\n\u001b[1;32m      6\u001b[0m         \u001b[0;32mif\u001b[0m \u001b[0mcuda\u001b[0m\u001b[0;34m:\u001b[0m\u001b[0;34m\u001b[0m\u001b[0m\n",
      "\u001b[0;31mNameError\u001b[0m: name 'model' is not defined"
     ]
    }
   ],
   "source": [
    "for epoch in range(1, epochs+1):\n",
    "        trainTCN(epoch)\n",
    "        testTCN()\n",
    "#         if epoch % 5 == 0: \n",
    "#             print('Saving model.....')\n",
    "#             save(model) \n",
    "        if epoch % 10 == 0:\n",
    "            lr /= 10\n",
    "            for param_group in optimizer.param_groups:\n",
    "                param_group['lr'] = lr\n",
    "save(model)"
   ]
  },
  {
   "cell_type": "code",
   "execution_count": 10,
   "metadata": {},
   "outputs": [
    {
     "name": "stdout",
     "output_type": "stream",
     "text": [
      "TCN(\n",
      "  (tcn): TemporalConvNet(\n",
      "    (network): Sequential(\n",
      "      (0): TemporalBlock(\n",
      "        (conv1): Conv1d(1, 25, kernel_size=(7,), stride=(1,), padding=(6,))\n",
      "        (chomp1): Chomp1d()\n",
      "        (relu1): ReLU()\n",
      "        (dropout1): Dropout(p=0.05)\n",
      "        (conv2): Conv1d(25, 25, kernel_size=(7,), stride=(1,), padding=(6,))\n",
      "        (chomp2): Chomp1d()\n",
      "        (relu2): ReLU()\n",
      "        (dropout2): Dropout(p=0.05)\n",
      "        (net): Sequential(\n",
      "          (0): Conv1d(1, 25, kernel_size=(7,), stride=(1,), padding=(6,))\n",
      "          (1): Chomp1d()\n",
      "          (2): ReLU()\n",
      "          (3): Dropout(p=0.05)\n",
      "          (4): Conv1d(25, 25, kernel_size=(7,), stride=(1,), padding=(6,))\n",
      "          (5): Chomp1d()\n",
      "          (6): ReLU()\n",
      "          (7): Dropout(p=0.05)\n",
      "        )\n",
      "        (downsample): Conv1d(1, 25, kernel_size=(1,), stride=(1,))\n",
      "        (relu): ReLU()\n",
      "      )\n",
      "      (1): TemporalBlock(\n",
      "        (conv1): Conv1d(25, 25, kernel_size=(7,), stride=(1,), padding=(12,), dilation=(2,))\n",
      "        (chomp1): Chomp1d()\n",
      "        (relu1): ReLU()\n",
      "        (dropout1): Dropout(p=0.05)\n",
      "        (conv2): Conv1d(25, 25, kernel_size=(7,), stride=(1,), padding=(12,), dilation=(2,))\n",
      "        (chomp2): Chomp1d()\n",
      "        (relu2): ReLU()\n",
      "        (dropout2): Dropout(p=0.05)\n",
      "        (net): Sequential(\n",
      "          (0): Conv1d(25, 25, kernel_size=(7,), stride=(1,), padding=(12,), dilation=(2,))\n",
      "          (1): Chomp1d()\n",
      "          (2): ReLU()\n",
      "          (3): Dropout(p=0.05)\n",
      "          (4): Conv1d(25, 25, kernel_size=(7,), stride=(1,), padding=(12,), dilation=(2,))\n",
      "          (5): Chomp1d()\n",
      "          (6): ReLU()\n",
      "          (7): Dropout(p=0.05)\n",
      "        )\n",
      "        (relu): ReLU()\n",
      "      )\n",
      "      (2): TemporalBlock(\n",
      "        (conv1): Conv1d(25, 25, kernel_size=(7,), stride=(1,), padding=(24,), dilation=(4,))\n",
      "        (chomp1): Chomp1d()\n",
      "        (relu1): ReLU()\n",
      "        (dropout1): Dropout(p=0.05)\n",
      "        (conv2): Conv1d(25, 25, kernel_size=(7,), stride=(1,), padding=(24,), dilation=(4,))\n",
      "        (chomp2): Chomp1d()\n",
      "        (relu2): ReLU()\n",
      "        (dropout2): Dropout(p=0.05)\n",
      "        (net): Sequential(\n",
      "          (0): Conv1d(25, 25, kernel_size=(7,), stride=(1,), padding=(24,), dilation=(4,))\n",
      "          (1): Chomp1d()\n",
      "          (2): ReLU()\n",
      "          (3): Dropout(p=0.05)\n",
      "          (4): Conv1d(25, 25, kernel_size=(7,), stride=(1,), padding=(24,), dilation=(4,))\n",
      "          (5): Chomp1d()\n",
      "          (6): ReLU()\n",
      "          (7): Dropout(p=0.05)\n",
      "        )\n",
      "        (relu): ReLU()\n",
      "      )\n",
      "      (3): TemporalBlock(\n",
      "        (conv1): Conv1d(25, 25, kernel_size=(7,), stride=(1,), padding=(48,), dilation=(8,))\n",
      "        (chomp1): Chomp1d()\n",
      "        (relu1): ReLU()\n",
      "        (dropout1): Dropout(p=0.05)\n",
      "        (conv2): Conv1d(25, 25, kernel_size=(7,), stride=(1,), padding=(48,), dilation=(8,))\n",
      "        (chomp2): Chomp1d()\n",
      "        (relu2): ReLU()\n",
      "        (dropout2): Dropout(p=0.05)\n",
      "        (net): Sequential(\n",
      "          (0): Conv1d(25, 25, kernel_size=(7,), stride=(1,), padding=(48,), dilation=(8,))\n",
      "          (1): Chomp1d()\n",
      "          (2): ReLU()\n",
      "          (3): Dropout(p=0.05)\n",
      "          (4): Conv1d(25, 25, kernel_size=(7,), stride=(1,), padding=(48,), dilation=(8,))\n",
      "          (5): Chomp1d()\n",
      "          (6): ReLU()\n",
      "          (7): Dropout(p=0.05)\n",
      "        )\n",
      "        (relu): ReLU()\n",
      "      )\n",
      "      (4): TemporalBlock(\n",
      "        (conv1): Conv1d(25, 25, kernel_size=(7,), stride=(1,), padding=(96,), dilation=(16,))\n",
      "        (chomp1): Chomp1d()\n",
      "        (relu1): ReLU()\n",
      "        (dropout1): Dropout(p=0.05)\n",
      "        (conv2): Conv1d(25, 25, kernel_size=(7,), stride=(1,), padding=(96,), dilation=(16,))\n",
      "        (chomp2): Chomp1d()\n",
      "        (relu2): ReLU()\n",
      "        (dropout2): Dropout(p=0.05)\n",
      "        (net): Sequential(\n",
      "          (0): Conv1d(25, 25, kernel_size=(7,), stride=(1,), padding=(96,), dilation=(16,))\n",
      "          (1): Chomp1d()\n",
      "          (2): ReLU()\n",
      "          (3): Dropout(p=0.05)\n",
      "          (4): Conv1d(25, 25, kernel_size=(7,), stride=(1,), padding=(96,), dilation=(16,))\n",
      "          (5): Chomp1d()\n",
      "          (6): ReLU()\n",
      "          (7): Dropout(p=0.05)\n",
      "        )\n",
      "        (relu): ReLU()\n",
      "      )\n",
      "      (5): TemporalBlock(\n",
      "        (conv1): Conv1d(25, 25, kernel_size=(7,), stride=(1,), padding=(192,), dilation=(32,))\n",
      "        (chomp1): Chomp1d()\n",
      "        (relu1): ReLU()\n",
      "        (dropout1): Dropout(p=0.05)\n",
      "        (conv2): Conv1d(25, 25, kernel_size=(7,), stride=(1,), padding=(192,), dilation=(32,))\n",
      "        (chomp2): Chomp1d()\n",
      "        (relu2): ReLU()\n",
      "        (dropout2): Dropout(p=0.05)\n",
      "        (net): Sequential(\n",
      "          (0): Conv1d(25, 25, kernel_size=(7,), stride=(1,), padding=(192,), dilation=(32,))\n",
      "          (1): Chomp1d()\n",
      "          (2): ReLU()\n",
      "          (3): Dropout(p=0.05)\n",
      "          (4): Conv1d(25, 25, kernel_size=(7,), stride=(1,), padding=(192,), dilation=(32,))\n",
      "          (5): Chomp1d()\n",
      "          (6): ReLU()\n",
      "          (7): Dropout(p=0.05)\n",
      "        )\n",
      "        (relu): ReLU()\n",
      "      )\n",
      "      (6): TemporalBlock(\n",
      "        (conv1): Conv1d(25, 25, kernel_size=(7,), stride=(1,), padding=(384,), dilation=(64,))\n",
      "        (chomp1): Chomp1d()\n",
      "        (relu1): ReLU()\n",
      "        (dropout1): Dropout(p=0.05)\n",
      "        (conv2): Conv1d(25, 25, kernel_size=(7,), stride=(1,), padding=(384,), dilation=(64,))\n",
      "        (chomp2): Chomp1d()\n",
      "        (relu2): ReLU()\n",
      "        (dropout2): Dropout(p=0.05)\n",
      "        (net): Sequential(\n",
      "          (0): Conv1d(25, 25, kernel_size=(7,), stride=(1,), padding=(384,), dilation=(64,))\n",
      "          (1): Chomp1d()\n",
      "          (2): ReLU()\n",
      "          (3): Dropout(p=0.05)\n",
      "          (4): Conv1d(25, 25, kernel_size=(7,), stride=(1,), padding=(384,), dilation=(64,))\n",
      "          (5): Chomp1d()\n",
      "          (6): ReLU()\n",
      "          (7): Dropout(p=0.05)\n",
      "        )\n",
      "        (relu): ReLU()\n",
      "      )\n",
      "      (7): TemporalBlock(\n",
      "        (conv1): Conv1d(25, 25, kernel_size=(7,), stride=(1,), padding=(768,), dilation=(128,))\n",
      "        (chomp1): Chomp1d()\n",
      "        (relu1): ReLU()\n",
      "        (dropout1): Dropout(p=0.05)\n",
      "        (conv2): Conv1d(25, 25, kernel_size=(7,), stride=(1,), padding=(768,), dilation=(128,))\n",
      "        (chomp2): Chomp1d()\n",
      "        (relu2): ReLU()\n",
      "        (dropout2): Dropout(p=0.05)\n",
      "        (net): Sequential(\n",
      "          (0): Conv1d(25, 25, kernel_size=(7,), stride=(1,), padding=(768,), dilation=(128,))\n",
      "          (1): Chomp1d()\n",
      "          (2): ReLU()\n",
      "          (3): Dropout(p=0.05)\n",
      "          (4): Conv1d(25, 25, kernel_size=(7,), stride=(1,), padding=(768,), dilation=(128,))\n",
      "          (5): Chomp1d()\n",
      "          (6): ReLU()\n",
      "          (7): Dropout(p=0.05)\n",
      "        )\n",
      "        (relu): ReLU()\n",
      "      )\n",
      "    )\n",
      "  )\n",
      "  (linear): Linear(in_features=25, out_features=10, bias=True)\n",
      ")\n"
     ]
    }
   ],
   "source": [
    "with open(\"./checkpoints/fashionmnist/fashionmnist_02.pt\", 'rb') as f:\n",
    "        model = torch.load(f)\n",
    "        print(model)"
   ]
  },
  {
   "cell_type": "code",
   "execution_count": 11,
   "metadata": {},
   "outputs": [
    {
     "name": "stderr",
     "output_type": "stream",
     "text": [
      "/home/A00512318/anaconda3/envs/tcn/lib/python3.7/site-packages/torch/nn/functional.py:52: UserWarning: size_average and reduce args will be deprecated, please use reduction='sum' instead.\n",
      "  warnings.warn(warning.format(ret))\n",
      "/home/A00512318/anaconda3/envs/tcn/lib/python3.7/site-packages/ipykernel/__main__.py:17: UserWarning: invalid index of a 0-dim tensor. This will be an error in PyTorch 0.5. Use tensor.item() to convert a 0-dim tensor to a Python number\n"
     ]
    },
    {
     "name": "stdout",
     "output_type": "stream",
     "text": [
      "Accuracy of tshit/top : 81 %\n",
      "Accuracy of trouser : 98 %\n",
      "Accuracy of pullover : 82 %\n",
      "Accuracy of dress : 88 %\n",
      "Accuracy of  coat : 81 %\n",
      "Accuracy of sandal : 97 %\n",
      "Accuracy of shirt : 72 %\n",
      "Accuracy of sneaker : 95 %\n",
      "Accuracy of   bag : 97 %\n",
      "Accuracy of ankle/boot : 95 %\n",
      "\n",
      "Test set: Average loss: 0.2943, Accuracy: 8930/10000 (89%)\n",
      "\n"
     ]
    },
    {
     "data": {
      "text/plain": [
       "tensor(0.2943, device='cuda:0')"
      ]
     },
     "execution_count": 11,
     "metadata": {},
     "output_type": "execute_result"
    }
   ],
   "source": [
    "testTCN()"
   ]
  },
  {
   "cell_type": "code",
   "execution_count": null,
   "metadata": {},
   "outputs": [],
   "source": []
  },
  {
   "cell_type": "code",
   "execution_count": null,
   "metadata": {},
   "outputs": [],
   "source": []
  },
  {
   "cell_type": "code",
   "execution_count": null,
   "metadata": {},
   "outputs": [],
   "source": []
  },
  {
   "cell_type": "code",
   "execution_count": null,
   "metadata": {},
   "outputs": [],
   "source": []
  }
 ],
 "metadata": {
  "kernelspec": {
   "display_name": "Python [default]",
   "language": "python",
   "name": "python3"
  },
  "language_info": {
   "codemirror_mode": {
    "name": "ipython",
    "version": 3
   },
   "file_extension": ".py",
   "mimetype": "text/x-python",
   "name": "python",
   "nbconvert_exporter": "python",
   "pygments_lexer": "ipython3",
   "version": "3.7.0"
  }
 },
 "nbformat": 4,
 "nbformat_minor": 2
}
