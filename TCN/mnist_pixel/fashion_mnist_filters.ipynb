{
 "cells": [
  {
   "cell_type": "code",
   "execution_count": 1,
   "metadata": {},
   "outputs": [],
   "source": [
    "import sys, os\n",
    "sys.path.append('/home/A00512318/TCN')\n",
    "import torch\n",
    "import torch.nn as nn\n",
    "from torch.autograd import Variable\n",
    "import torch.optim as optim\n",
    "import torch.nn.functional as F\n",
    "from TCN.mnist_pixel.utils import data_generator\n",
    "from TCN.mnist_pixel.model import TCN\n",
    "import numpy as np\n",
    "import argparse\n",
    "\n",
    "# set default values for model\n",
    "batch_size = 100\n",
    "cuda = True\n",
    "dropout = 0.10\n",
    "clip = -1\n",
    "epochs = 20\n",
    "kernel_size = 7\n",
    "levels = 12\n",
    "log_interval = 100\n",
    "lr = 2e-3\n",
    "optimm = 'Adam'\n",
    "nhid = 25\n",
    "seed = 1111\n",
    "permutee = False\n",
    "root = '../data/fashion_mnist'\n",
    "save_filename = './checkpoints/fashionmnist/fashionmnist_filters.pt'\n",
    "input_channels = 1\n",
    "n_classes = 10\n",
    "seq_length = int(784 / input_channels)\n",
    "steps = 0"
   ]
  },
  {
   "cell_type": "code",
   "execution_count": 13,
   "metadata": {},
   "outputs": [],
   "source": [
    "from torchvision import datasets, transforms\n",
    "\n",
    "def data_generator(root, batch_size):\n",
    "    train_set = datasets.FashionMNIST(root=root, train=True, download=True,\n",
    "                               transform=transforms.Compose([\n",
    "                                   transforms.ToTensor(),\n",
    "                                   transforms.Normalize((0.1307,), (0.3081,))\n",
    "                               ]))\n",
    "    test_set = datasets.FashionMNIST(root=root, train=False, download=True,\n",
    "                              transform=transforms.Compose([\n",
    "                                  transforms.ToTensor(),\n",
    "                                  transforms.Normalize((0.1307,), (0.3081,))\n",
    "                              ]))\n",
    "\n",
    "    train_loader = torch.utils.data.DataLoader(train_set, batch_size=batch_size)\n",
    "    test_loader = torch.utils.data.DataLoader(test_set, batch_size=batch_size)\n",
    "    return train_loader, test_loader\n",
    "\n",
    "train_loader, test_loader = data_generator(root, batch_size)\n",
    "\n",
    "classes = ('T-shirt/Top', 'Trouser', 'Pullover', 'Dress', 'Coat', 'Sandal', 'Shirt', 'Sneaker', 'Bag', 'Ankle boot')\n",
    "# print(classes)"
   ]
  },
  {
   "cell_type": "code",
   "execution_count": 3,
   "metadata": {},
   "outputs": [
    {
     "name": "stderr",
     "output_type": "stream",
     "text": [
      "Clipping input data to the valid range for imshow with RGB data ([0..1] for floats or [0..255] for integers).\n"
     ]
    },
    {
     "name": "stdout",
     "output_type": "stream",
     "text": [
      "Ankle boot T-shirt/Top T-shirt/Top Dress T-shirt/Top Pullover Sneaker Pullover Sandal Sandal T-shirt/Top Ankle boot Sandal Sandal Sneaker Ankle boot Trouser T-shirt/Top Shirt  Coat Dress Trouser  Coat   Bag  Coat Dress T-shirt/Top Pullover  Coat  Coat Sandal Dress Shirt Shirt T-shirt/Top   Bag Sandal Pullover Trouser Shirt Shirt Sneaker Ankle boot Sandal Ankle boot Pullover Sneaker Dress T-shirt/Top Dress Dress Dress Sneaker Pullover Pullover Shirt Shirt   Bag Dress Dress Sandal T-shirt/Top Sandal Sandal T-shirt/Top Pullover T-shirt/Top T-shirt/Top  Coat Trouser Dress Trouser Shirt Dress Trouser  Coat  Coat Shirt Trouser Ankle boot Trouser Dress Sandal Sneaker Ankle boot Sneaker Trouser Sneaker Ankle boot Ankle boot Ankle boot Dress Pullover Ankle boot Dress Shirt  Coat Trouser Trouser   Bag\n"
     ]
    }
   ],
   "source": [
    "import matplotlib.pyplot as plt\n",
    "import numpy as np\n",
    "import torchvision\n",
    "\n",
    "# functions to show an image\n",
    "\n",
    "\n",
    "def imshow(img):\n",
    "    img = img / 2 + 0.5     # unnormalize\n",
    "    npimg = img.numpy()\n",
    "    plt.imshow(np.transpose(npimg, (1, 2, 0)))\n",
    "\n",
    "\n",
    "# get some random training images\n",
    "dataiter = iter(train_loader)\n",
    "images, labels = dataiter.next()\n",
    "\n",
    "unique_images = {}\n",
    "seen = set()\n",
    "for i in range(batch_size):\n",
    "    if labels[i] not in seen:\n",
    "        seen.add(labels[i].item())\n",
    "#         print(seen)\n",
    "        unique_images[labels[i].item()] = images[i]\n",
    "\n",
    "# print([label[0] for label in unique_images])\n",
    "# print(seen)\n",
    "# print(labels)\n",
    "# print()\n",
    "\n",
    "# show images\n",
    "imshow(torchvision.utils.make_grid(images))\n",
    "# print labels\n",
    "print(' '.join('%5s' % classes[labels[j]] for j in range(batch_size)))\n"
   ]
  },
  {
   "cell_type": "code",
   "execution_count": 6,
   "metadata": {},
   "outputs": [],
   "source": [
    "def plot_sample_predictions(classes, images):\n",
    "    \"\"\"\n",
    "    This function displays images randomly and tries to predict the correct class\n",
    "    stolen from here: https://github.com/cmasch/zalando-fashion-mnist/blob/master/Simple_Convolutional_Neural_Network_Fashion-MNIST.ipynb\n",
    "    \"\"\"\n",
    "\n",
    "    class_ = 0\n",
    "    images_per_row = 5\n",
    "    rows = len(classes) // images_per_row\n",
    "#     print(rows)\n",
    "    ii = 0;\n",
    "    for i in range(rows):\n",
    "        fig, axis = plt.subplots(1, images_per_row)\n",
    "     \n",
    "        for i, axis in enumerate(axis):\n",
    "#             print(axis, i)\n",
    "            fig.set_size_inches(15, 25)\n",
    "            axis.text(0,36,classes[ii])\n",
    "            axis.imshow(images[ii][0] / 2 + 0.5, cmap='gray')\n",
    "            axis.axis('off')\n",
    "            class_ +=1\n",
    "            ii += 1\n",
    "    fig.savefig('./classes.png')\n",
    "    plt.show()\n",
    "    "
   ]
  },
  {
   "cell_type": "code",
   "execution_count": 17,
   "metadata": {},
   "outputs": [
    {
     "ename": "TypeError",
     "evalue": "'Image' object is not subscriptable",
     "output_type": "error",
     "traceback": [
      "\u001b[0;31m---------------------------------------------------------------------------\u001b[0m",
      "\u001b[0;31mTypeError\u001b[0m                                 Traceback (most recent call last)",
      "\u001b[0;32m<ipython-input-17-d424fcf47412>\u001b[0m in \u001b[0;36m<module>\u001b[0;34m\u001b[0m\n\u001b[1;32m     22\u001b[0m \u001b[0;32mfor\u001b[0m \u001b[0mi\u001b[0m \u001b[0;32min\u001b[0m \u001b[0mrange\u001b[0m\u001b[0;34m(\u001b[0m\u001b[0;36m1\u001b[0m\u001b[0;34m,\u001b[0m \u001b[0mcolumns\u001b[0m\u001b[0;34m*\u001b[0m\u001b[0mrows\u001b[0m \u001b[0;34m+\u001b[0m\u001b[0;36m1\u001b[0m\u001b[0;34m)\u001b[0m\u001b[0;34m:\u001b[0m\u001b[0;34m\u001b[0m\u001b[0m\n\u001b[1;32m     23\u001b[0m     \u001b[0mimg_xy\u001b[0m \u001b[0;34m=\u001b[0m \u001b[0mnp\u001b[0m\u001b[0;34m.\u001b[0m\u001b[0mrandom\u001b[0m\u001b[0;34m.\u001b[0m\u001b[0mrandint\u001b[0m\u001b[0;34m(\u001b[0m\u001b[0mlen\u001b[0m\u001b[0;34m(\u001b[0m\u001b[0mtrain_set\u001b[0m\u001b[0;34m)\u001b[0m\u001b[0;34m)\u001b[0m\u001b[0;34m;\u001b[0m\u001b[0;34m\u001b[0m\u001b[0m\n\u001b[0;32m---> 24\u001b[0;31m     \u001b[0mimg\u001b[0m \u001b[0;34m=\u001b[0m \u001b[0mtrain_set\u001b[0m\u001b[0;34m[\u001b[0m\u001b[0mimg_xy\u001b[0m\u001b[0;34m]\u001b[0m\u001b[0;34m[\u001b[0m\u001b[0;36m0\u001b[0m\u001b[0;34m]\u001b[0m\u001b[0;34m[\u001b[0m\u001b[0;36m0\u001b[0m\u001b[0;34m,\u001b[0m\u001b[0;34m:\u001b[0m\u001b[0;34m,\u001b[0m\u001b[0;34m:\u001b[0m\u001b[0;34m]\u001b[0m\u001b[0;34m\u001b[0m\u001b[0m\n\u001b[0m\u001b[1;32m     25\u001b[0m     \u001b[0mfig\u001b[0m\u001b[0;34m.\u001b[0m\u001b[0madd_subplot\u001b[0m\u001b[0;34m(\u001b[0m\u001b[0mrows\u001b[0m\u001b[0;34m,\u001b[0m \u001b[0mcolumns\u001b[0m\u001b[0;34m,\u001b[0m \u001b[0mi\u001b[0m\u001b[0;34m)\u001b[0m\u001b[0;34m\u001b[0m\u001b[0m\n\u001b[1;32m     26\u001b[0m     \u001b[0mplt\u001b[0m\u001b[0;34m.\u001b[0m\u001b[0mtitle\u001b[0m\u001b[0;34m(\u001b[0m\u001b[0mlabels_map\u001b[0m\u001b[0;34m[\u001b[0m\u001b[0mtrain_set\u001b[0m\u001b[0;34m[\u001b[0m\u001b[0mimg_xy\u001b[0m\u001b[0;34m]\u001b[0m\u001b[0;34m[\u001b[0m\u001b[0;36m1\u001b[0m\u001b[0;34m]\u001b[0m\u001b[0;34m]\u001b[0m\u001b[0;34m)\u001b[0m\u001b[0;34m\u001b[0m\u001b[0m\n",
      "\u001b[0;31mTypeError\u001b[0m: 'Image' object is not subscriptable"
     ]
    },
    {
     "data": {
      "text/plain": [
       "<Figure size 576x576 with 0 Axes>"
      ]
     },
     "metadata": {},
     "output_type": "display_data"
    }
   ],
   "source": [
    "# fig = plt.figure()\n",
    "# for i in range(6):\n",
    "#   plt.subplot(2,3,i+1)\n",
    "#   plt.tight_layout()\n",
    "#   plt.imshow(example_data[i][0], cmap='gray', interpolation='none')\n",
    "#   plt.title(\"Ground Truth: {}\".format(example_targets[i]))\n",
    "#   plt.xticks([])\n",
    "#   plt.yticks([])\n",
    "# fig\n",
    "\n",
    "dataiter = iter(train_loader)\n",
    "images, labels = dataiter.next()\n",
    "plot_sample_predictions(classes, unique_images)"
   ]
  },
  {
   "cell_type": "code",
   "execution_count": 29,
   "metadata": {},
   "outputs": [
    {
     "name": "stderr",
     "output_type": "stream",
     "text": [
      "Clipping input data to the valid range for imshow with RGB data ([0..1] for floats or [0..255] for integers).\n"
     ]
    },
    {
     "name": "stdout",
     "output_type": "stream",
     "text": [
      "tensor([9, 2, 1, 1, 6, 1, 4, 6, 5, 7, 4, 5, 7, 3, 4, 1, 2, 4, 8, 0, 2, 5, 7, 9,\n",
      "        1, 4, 6, 0, 9, 3, 8, 8, 3, 3, 8, 0, 7, 5, 7, 9, 6, 1, 3, 7, 6, 7, 2, 1,\n",
      "        2, 2, 4, 4, 5, 8, 2, 2, 8, 4, 8, 0, 7, 7, 8, 5, 1, 1, 2, 3, 9, 8, 7, 0,\n",
      "        2, 6, 2, 3, 1, 2, 8, 4, 1, 8, 5, 9, 5, 0, 3, 2, 0, 6, 5, 3, 6, 7, 1, 8,\n",
      "        0, 1, 4, 2])\n",
      "Ankle boot Pullover Trouser Trouser Shirt Trouser  Coat Shirt Sandal Sneaker  Coat Sandal Sneaker Dress  Coat Trouser Pullover  Coat   Bag T-shirt/Top Pullover Sandal Sneaker Ankle boot Trouser  Coat Shirt T-shirt/Top Ankle boot Dress   Bag   Bag Dress Dress   Bag T-shirt/Top Sneaker Sandal Sneaker Ankle boot Shirt Trouser Dress Sneaker Shirt Sneaker Pullover Trouser Pullover Pullover  Coat  Coat Sandal   Bag Pullover Pullover   Bag  Coat   Bag T-shirt/Top Sneaker Sneaker   Bag Sandal Trouser Trouser Pullover Dress Ankle boot   Bag Sneaker T-shirt/Top Pullover Shirt Pullover Dress Trouser Pullover   Bag  Coat Trouser   Bag Sandal Ankle boot Sandal T-shirt/Top Dress Pullover T-shirt/Top Shirt Sandal Dress Shirt Sneaker Trouser   Bag T-shirt/Top Trouser  Coat Pullover\n"
     ]
    },
    {
     "data": {
      "image/png": "[encoded data removed]",
      "text/plain": [
       "<Figure size 432x288 with 1 Axes>"
      ]
     },
     "metadata": {
      "needs_background": "light"
     },
     "output_type": "display_data"
    }
   ],
   "source": [
    "# sanity check for validation data\n",
    "dataiter = iter(test_loader)\n",
    "images, labels = dataiter.next()\n",
    "print(labels)\n",
    "imshow(torchvision.utils.make_grid(images))\n",
    "# print labels\n",
    "print(' '.join('%5s' % classes[labels[j]] for j in range(batch_size)))\n"
   ]
  },
  {
   "cell_type": "code",
   "execution_count": 30,
   "metadata": {},
   "outputs": [],
   "source": [
    "device = torch.device(\"cuda:0\" if torch.cuda.is_available() else \"cpu\")\n",
    "\n",
    "permute = torch.Tensor(np.random.permutation(784).astype(np.float64)).long()\n",
    "channel_sizes = [nhid] * levels\n",
    "model = TCN(input_channels, n_classes, channel_sizes, kernel_size=kernel_size, dropout=dropout)\n",
    "\n",
    "model = nn.DataParallel(model)\n",
    "model.to(device)\n",
    "\n",
    "# permute = permute.cuda()\n",
    "permute = permute.to(device)\n",
    "optimizer = getattr(optim, optimm)(model.parameters(), lr=lr)"
   ]
  },
  {
   "cell_type": "code",
   "execution_count": 19,
   "metadata": {},
   "outputs": [],
   "source": [
    "def trainTCN(ep):\n",
    "    global steps\n",
    "    train_loss = 0\n",
    "    model.train()\n",
    "    for batch_idx, (data, target) in enumerate(train_loader):\n",
    "        if cuda: \n",
    "            data, target = data.to(device), target.to(device)\n",
    "        data = data.view(-1, input_channels, seq_length)\n",
    "        if permutee:\n",
    "            data = data[:, :, permute]\n",
    "        optimizer.zero_grad()\n",
    "        output = model(data)\n",
    "        loss = F.nll_loss(output, target)\n",
    "        loss.backward()\n",
    "        if clip > 0:\n",
    "            torch.nn.utils.clip_grad_norm(model.parameters(), clip)\n",
    "        optimizer.step()\n",
    "        train_loss += loss.item()\n",
    "#         loss_.append(train_loss)\n",
    "        steps += seq_length\n",
    "        if batch_idx > 0 and batch_idx % log_interval == 0:\n",
    "            print('Train Epoch: {} [{}/{} ({:.0f}%)]\\tLoss: {:.6f}\\tSteps: {}'.format(\n",
    "                ep, batch_idx * batch_size, len(train_loader.dataset),\n",
    "                100. * batch_idx / len(train_loader), train_loss/log_interval, steps))\n",
    "            train_loss = 0"
   ]
  },
  {
   "cell_type": "code",
   "execution_count": 20,
   "metadata": {},
   "outputs": [],
   "source": [
    "def testTCN():\n",
    "    test_loss = 0\n",
    "    correct = 0\n",
    "    correct_class = list(0. for i in range(10))\n",
    "    correct_total = list(0. for i in range(10))\n",
    "    tot = 0\n",
    "    with torch.no_grad():\n",
    "        for data, target in test_loader:\n",
    "            if cuda:\n",
    "                data, target = data.to(device), target.to(device)\n",
    "            data = data.view(-1, input_channels, seq_length)\n",
    "            if permutee:\n",
    "                data = data[:, :, permute]\n",
    "            output = model(data)\n",
    "            test_loss += F.nll_loss(output, target, size_average=False).item()\n",
    "            _, pred = torch.max(output, 1)\n",
    "            correct += pred.eq(target.data.view_as(pred)).cpu().sum()\n",
    "#             print(len(target.data.view_as(pred)))\n",
    "            c = (pred == target).squeeze()\n",
    "            tot += 1\n",
    "#             if tot != 313:\n",
    "#             for i in range(len(test_loader.dataset) // batch_size):\n",
    "# #                     print(pred[i], target.data.view_as(pred)[i])\n",
    "#                 print(i)\n",
    "#                 label = pred[i]\n",
    "#                 if (pred[i] == target.data.view_as(pred)[i]):\n",
    "#                     correct_class[label] += c[i].item()\n",
    "#                 correct_total[label] += 1\n",
    "                    \n",
    "                \n",
    "#     print(tot)\n",
    "#     for i in range(10):\n",
    "#         print('Accuracy of %5s : %2d %%' % (\n",
    "#             classes[i], 100 * correct_class[i] / correct_total[i]))\n",
    "\n",
    "    test_loss /= len(test_loader.dataset)\n",
    "#     print(correct.item())\n",
    "    accuracy_.append(correct.item() / 10000.)\n",
    "    \n",
    "    print('\\nTest set: Average loss: {:.4f}, Accuracy: {}/{} ({:.0f}%)\\n'.format(\n",
    "        test_loss, correct, len(test_loader.dataset),\n",
    "        100. * correct / len(test_loader.dataset)))\n",
    "    return test_loss"
   ]
  },
  {
   "cell_type": "code",
   "execution_count": 21,
   "metadata": {},
   "outputs": [],
   "source": [
    "def save(model):\n",
    "    torch.save(model, save_filename)\n",
    "    print('Saved as %s' % save_filename)"
   ]
  },
  {
   "cell_type": "code",
   "execution_count": null,
   "metadata": {},
   "outputs": [],
   "source": []
  },
  {
   "cell_type": "code",
   "execution_count": null,
   "metadata": {},
   "outputs": [],
   "source": []
  },
  {
   "cell_type": "code",
   "execution_count": null,
   "metadata": {},
   "outputs": [
    {
     "name": "stdout",
     "output_type": "stream",
     "text": [
      "Train Epoch: 1 [10000/60000 (17%)]\tLoss: 1.160145\tSteps: 79184\n",
      "Train Epoch: 1 [20000/60000 (33%)]\tLoss: 0.659271\tSteps: 157584\n",
      "Train Epoch: 1 [30000/60000 (50%)]\tLoss: 0.564013\tSteps: 235984\n",
      "Train Epoch: 1 [40000/60000 (67%)]\tLoss: 0.519359\tSteps: 314384\n",
      "Train Epoch: 1 [50000/60000 (83%)]\tLoss: 0.480578\tSteps: 392784\n"
     ]
    },
    {
     "name": "stderr",
     "output_type": "stream",
     "text": [
      "/home/A00512318/anaconda3/envs/tcn/lib/python3.7/site-packages/torch/nn/functional.py:52: UserWarning: size_average and reduce args will be deprecated, please use reduction='sum' instead.\n",
      "  warnings.warn(warning.format(ret))\n"
     ]
    },
    {
     "name": "stdout",
     "output_type": "stream",
     "text": [
      "\n",
      "Test set: Average loss: 0.4652, Accuracy: 8289/10000 (82%)\n",
      "\n",
      "Train Epoch: 2 [10000/60000 (17%)]\tLoss: 0.448304\tSteps: 549584\n",
      "Train Epoch: 2 [20000/60000 (33%)]\tLoss: 0.444629\tSteps: 627984\n",
      "Train Epoch: 2 [30000/60000 (50%)]\tLoss: 0.422516\tSteps: 706384\n",
      "Train Epoch: 2 [40000/60000 (67%)]\tLoss: 0.409574\tSteps: 784784\n",
      "Train Epoch: 2 [50000/60000 (83%)]\tLoss: 0.400198\tSteps: 863184\n",
      "\n",
      "Test set: Average loss: 0.4145, Accuracy: 8491/10000 (84%)\n",
      "\n",
      "Train Epoch: 3 [10000/60000 (17%)]\tLoss: 0.389837\tSteps: 1019984\n",
      "Train Epoch: 3 [20000/60000 (33%)]\tLoss: 0.387617\tSteps: 1098384\n",
      "Train Epoch: 3 [30000/60000 (50%)]\tLoss: 0.377941\tSteps: 1176784\n",
      "Train Epoch: 3 [40000/60000 (67%)]\tLoss: 0.375296\tSteps: 1255184\n",
      "Train Epoch: 3 [50000/60000 (83%)]\tLoss: 0.358803\tSteps: 1333584\n",
      "\n",
      "Test set: Average loss: 0.3889, Accuracy: 8556/10000 (85%)\n",
      "\n",
      "Train Epoch: 4 [10000/60000 (17%)]\tLoss: 0.361657\tSteps: 1490384\n",
      "Train Epoch: 4 [20000/60000 (33%)]\tLoss: 0.365421\tSteps: 1568784\n",
      "Train Epoch: 4 [30000/60000 (50%)]\tLoss: 0.346966\tSteps: 1647184\n",
      "Train Epoch: 4 [40000/60000 (67%)]\tLoss: 0.356903\tSteps: 1725584\n",
      "Train Epoch: 4 [50000/60000 (83%)]\tLoss: 0.341183\tSteps: 1803984\n",
      "\n",
      "Test set: Average loss: 0.3796, Accuracy: 8589/10000 (85%)\n",
      "\n",
      "Train Epoch: 5 [10000/60000 (17%)]\tLoss: 0.339841\tSteps: 1960784\n",
      "Train Epoch: 5 [20000/60000 (33%)]\tLoss: 0.340402\tSteps: 2039184\n",
      "Train Epoch: 5 [30000/60000 (50%)]\tLoss: 0.343795\tSteps: 2117584\n",
      "Train Epoch: 5 [40000/60000 (67%)]\tLoss: 0.331335\tSteps: 2195984\n",
      "Train Epoch: 5 [50000/60000 (83%)]\tLoss: 0.330042\tSteps: 2274384\n",
      "\n",
      "Test set: Average loss: 0.3733, Accuracy: 8629/10000 (86%)\n",
      "\n",
      "Saving model.....\n",
      "Saved as ./checkpoints/fashionmnist/fashionmnist_filters.pt\n",
      "Train Epoch: 6 [10000/60000 (17%)]\tLoss: 0.326290\tSteps: 2431184\n",
      "Train Epoch: 6 [20000/60000 (33%)]\tLoss: 0.333988\tSteps: 2509584\n",
      "Train Epoch: 6 [30000/60000 (50%)]\tLoss: 0.321469\tSteps: 2587984\n",
      "Train Epoch: 6 [40000/60000 (67%)]\tLoss: 0.321613\tSteps: 2666384\n",
      "Train Epoch: 6 [50000/60000 (83%)]\tLoss: 0.315522\tSteps: 2744784\n",
      "\n",
      "Test set: Average loss: 0.3513, Accuracy: 8717/10000 (87%)\n",
      "\n",
      "Train Epoch: 7 [10000/60000 (17%)]\tLoss: 0.309765\tSteps: 2901584\n",
      "Train Epoch: 7 [20000/60000 (33%)]\tLoss: 0.316115\tSteps: 2979984\n",
      "Train Epoch: 7 [30000/60000 (50%)]\tLoss: 0.314023\tSteps: 3058384\n",
      "Train Epoch: 7 [40000/60000 (67%)]\tLoss: 0.308564\tSteps: 3136784\n",
      "Train Epoch: 7 [50000/60000 (83%)]\tLoss: 0.305648\tSteps: 3215184\n",
      "\n",
      "Test set: Average loss: 0.3454, Accuracy: 8699/10000 (86%)\n",
      "\n",
      "Train Epoch: 8 [10000/60000 (17%)]\tLoss: 0.307038\tSteps: 3371984\n",
      "Train Epoch: 8 [20000/60000 (33%)]\tLoss: 0.302288\tSteps: 3450384\n",
      "Train Epoch: 8 [30000/60000 (50%)]\tLoss: 0.304808\tSteps: 3528784\n",
      "Train Epoch: 8 [40000/60000 (67%)]\tLoss: 0.300304\tSteps: 3607184\n"
     ]
    }
   ],
   "source": [
    "accuracy_ = []\n",
    "loss_ = []\n",
    "# def runModel():\n",
    "for epoch in range(1, epochs+1):\n",
    "    trainTCN(epoch)\n",
    "    testTCN()\n",
    "    if epoch % 5 == 0: \n",
    "        print('Saving model.....')\n",
    "        save(model) \n",
    "    if epoch % 10 == 0:\n",
    "        lr /= 10\n",
    "        for param_group in optimizer.param_groups:\n",
    "            param_group['lr'] = lr\n",
    "            "
   ]
  },
  {
   "cell_type": "code",
   "execution_count": null,
   "metadata": {},
   "outputs": [],
   "source": [
    "loaded_model = None\n",
    "with open(save_filename, 'rb') as f:\n",
    "        loaded_model = torch.load(f)\n",
    "#         print(model)\n",
    "        \n",
    "def count_parameters(model):\n",
    "    return sum(p.numel() for p in model.parameters() if p.requires_grad)\n",
    "count_parameters(model)"
   ]
  },
  {
   "cell_type": "code",
   "execution_count": null,
   "metadata": {},
   "outputs": [],
   "source": [
    "loaded_model.to(device)\n",
    "# kernel = loaded_model.module.tcn.network[0].net[0].weight.data.clone()\n",
    "# kernel.shape\n",
    "# kernel\n",
    "# loaded_model.module.tcn.network\n",
    "loaded_model.module.tcn.network[0].net"
   ]
  },
  {
   "cell_type": "code",
   "execution_count": null,
   "metadata": {},
   "outputs": [],
   "source": [
    "fig = plt.figure()\n",
    "plt.figure(figsize=(10,10))\n",
    "for idx, filt  in enumerate(kernel):\n",
    "#     print(filt[0, :])\n",
    "#     print(filt[0, :])\n",
    "#     plt.subplot(4,7, idx + 1)\n",
    "    plt.imshow(filt, cmap=\"gray\")\n",
    "    plt.axis('off')\n",
    "    \n",
    "    \n",
    "fig.show()"
   ]
  },
  {
   "cell_type": "code",
   "execution_count": null,
   "metadata": {},
   "outputs": [],
   "source": [
    "import matplotlib\n",
    "import matplotlib.pyplot as plt\n",
    "import numpy as np\n",
    "\n",
    "# Data for plotting\n",
    "t = np.arange(1, 21)\n",
    "# s = 1 + np.sin(2 * np.pi * t)\n",
    "\n",
    "fig, ax = plt.subplots()\n",
    "ax.plot(t, accuracy_)\n",
    "\n",
    "ax.set(xlabel='Epoch', ylabel='Accuracy',\n",
    "       title='TCN')\n",
    "ax.grid()\n",
    "\n",
    "fig.savefig(\"test.png\")\n",
    "plt.show()"
   ]
  },
  {
   "cell_type": "code",
   "execution_count": null,
   "metadata": {},
   "outputs": [],
   "source": [
    "mode"
   ]
  },
  {
   "cell_type": "code",
   "execution_count": null,
   "metadata": {},
   "outputs": [],
   "source": [
    "model.to"
   ]
  },
  {
   "cell_type": "code",
   "execution_count": null,
   "metadata": {},
   "outputs": [],
   "source": []
  },
  {
   "cell_type": "code",
   "execution_count": null,
   "metadata": {},
   "outputs": [],
   "source": []
  },
  {
   "cell_type": "code",
   "execution_count": null,
   "metadata": {},
   "outputs": [],
   "source": []
  }
 ],
 "metadata": {
  "kernelspec": {
   "display_name": "Python [default]",
   "language": "python",
   "name": "python3"
  },
  "language_info": {
   "codemirror_mode": {
    "name": "ipython",
    "version": 3
   },
   "file_extension": ".py",
   "mimetype": "text/x-python",
   "name": "python",
   "nbconvert_exporter": "python",
   "pygments_lexer": "ipython3",
   "version": "3.7.0"
  }
 },
 "nbformat": 4,
 "nbformat_minor": 2
}
